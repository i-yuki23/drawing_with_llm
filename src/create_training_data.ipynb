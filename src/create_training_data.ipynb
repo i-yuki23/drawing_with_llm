{
 "cells": [
  {
   "cell_type": "code",
   "execution_count": 2,
   "metadata": {},
   "outputs": [],
   "source": [
    "import json\n",
    "from pathlib import Path"
   ]
  },
  {
   "cell_type": "code",
   "execution_count": null,
   "metadata": {},
   "outputs": [],
   "source": [
    "def create_svg_dataset(svg_dir: str, output_path: str):\n",
    "    svg_dir = Path(svg_dir)\n",
    "    dataset = []\n",
    "\n",
    "    for svg_file in svg_dir.glob(\"*.svg\"):\n",
    "        instruction = svg_file.stem\n",
    "        try:\n",
    "            svg_content = svg_file.read_text(encoding=\"utf-8\").strip()\n",
    "\n",
    "            sample = {\n",
    "                \"messages\": [\n",
    "                    {\"role\": \"user\", \"content\": instruction},\n",
    "                    {\"role\": \"assistant\", \"content\": svg_content}\n",
    "                ]\n",
    "            }\n",
    "            dataset.append(sample)\n",
    "        except Exception as e:\n",
    "            print(f\"Error reading {svg_file.name}: {e}\")\n",
    "\n",
    "    with open(output_path, \"w\", encoding=\"utf-8\") as f:\n",
    "        for item in dataset:\n",
    "            f.write(json.dumps(item, ensure_ascii=False) + \"\\n\")\n",
    "\n",
    "    print(f\"Saved {len(dataset)} samples to {output_path}\")\n"
   ]
  },
  {
   "cell_type": "code",
   "execution_count": 5,
   "metadata": {},
   "outputs": [
    {
     "name": "stdout",
     "output_type": "stream",
     "text": [
      "Saved 999 samples to ../dataset/decription_svg.jsonl\n"
     ]
    }
   ],
   "source": [
    "create_svg_dataset(svg_dir=\"../dataset/outputs_svg\", output_path=\"../dataset/decription_svg.jsonl\")"
   ]
  },
  {
   "cell_type": "code",
   "execution_count": null,
   "metadata": {},
   "outputs": [],
   "source": []
  }
 ],
 "metadata": {
  "kernelspec": {
   "display_name": ".venv",
   "language": "python",
   "name": "python3"
  },
  "language_info": {
   "codemirror_mode": {
    "name": "ipython",
    "version": 3
   },
   "file_extension": ".py",
   "mimetype": "text/x-python",
   "name": "python",
   "nbconvert_exporter": "python",
   "pygments_lexer": "ipython3",
   "version": "3.12.0"
  }
 },
 "nbformat": 4,
 "nbformat_minor": 2
}
